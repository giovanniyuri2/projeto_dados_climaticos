{
 "cells": [
  {
   "cell_type": "code",
   "execution_count": 201,
   "metadata": {},
   "outputs": [],
   "source": [
    "import pandas as pd\n",
    "import numpy as np\n",
    "import netCDF4 as nc\n",
    "import matplotlib.pyplot as plt\n",
    "#from pyunicorn import climate\n",
    "import seaborn as sns"
   ]
  },
  {
   "cell_type": "code",
   "execution_count": 141,
   "metadata": {},
   "outputs": [],
   "source": [
    "#import pyunicorn"
   ]
  },
  {
   "cell_type": "code",
   "execution_count": 363,
   "metadata": {},
   "outputs": [
    {
     "name": "stdout",
     "output_type": "stream",
     "text": [
      "<class 'netCDF4._netCDF4.Dataset'>\n",
      "root group (NETCDF4_CLASSIC data model, file format HDF5):\n",
      "    description: Data from NCEP initialized reanalysis (4x/day).  These are the 0.9950 sigma level values\n",
      "    platform: Model\n",
      "    Conventions: COARDS\n",
      "    NCO: 20121012\n",
      "    history: Thu May  4 20:11:16 2000: ncrcat -d time,0,623 /Datasets/ncep.reanalysis.derived/surface/air.mon.mean.nc air.mon.mean.nc\n",
      "Thu May  4 18:11:50 2000: ncrcat -d time,0,622 /Datasets/ncep.reanalysis.derived/surface/air.mon.mean.nc ./surface/air.mon.mean.nc\n",
      "Mon Jul  5 23:47:18 1999: ncrcat ./air.mon.mean.nc /Datasets/ncep.reanalysis.derived/surface/air.mon.mean.nc /dm/dmwork/nmc.rean.ingest/combinedMMs/surface/air.mon.mean.nc\n",
      "/home/hoop/crdc/cpreanjuke2farm/cpreanjuke2farm Mon Oct 23 21:04:20 1995 from air.sfc.gauss.85.nc\n",
      "created 95/03/13 by Hoop (netCDF2.3)\n",
      "Converted to chunked, deflated non-packed NetCDF4 2014/09\n",
      "    title: monthly mean air.sig995 from the NCEP Reanalysis\n",
      "    dataset_title: NCEP-NCAR Reanalysis 1\n",
      "    References: http://www.psl.noaa.gov/data/gridded/data.ncep.reanalysis.derived.html\n",
      "    dimensions(sizes): lat(73), lon(144), time(897)\n",
      "    variables(dimensions): float32 lat(lat), float32 lon(lon), float64 time(time), float32 air(time, lat, lon)\n",
      "    groups: \n"
     ]
    }
   ],
   "source": [
    "data = nc.Dataset('air.mon.mean.nc')\n",
    "# informações sobre as variáveis ​​contidas no arquivo e suas dimensões.\n",
    "print(data)"
   ]
  },
  {
   "cell_type": "code",
   "execution_count": 145,
   "metadata": {},
   "outputs": [
    {
     "name": "stdout",
     "output_type": "stream",
     "text": [
      "<class 'netCDF4._netCDF4.Dimension'>: name = 'lat', size = 73\n",
      "<class 'netCDF4._netCDF4.Dimension'>: name = 'lon', size = 144\n",
      "<class 'netCDF4._netCDF4.Dimension'> (unlimited): name = 'time', size = 897\n"
     ]
    }
   ],
   "source": [
    "# printando todas as dimensoes\n",
    "for dim in data.dimensions.values():\n",
    "    print(dim)"
   ]
  },
  {
   "cell_type": "code",
   "execution_count": 146,
   "metadata": {},
   "outputs": [
    {
     "name": "stdout",
     "output_type": "stream",
     "text": [
      "<class 'netCDF4._netCDF4.Variable'>\n",
      "float32 lat(lat)\n",
      "    units: degrees_north\n",
      "    actual_range: [ 90. -90.]\n",
      "    long_name: Latitude\n",
      "    standard_name: latitude\n",
      "    axis: Y\n",
      "unlimited dimensions: \n",
      "current shape = (73,)\n",
      "filling on, default _FillValue of 9.969209968386869e+36 used\n",
      "<class 'netCDF4._netCDF4.Variable'>\n",
      "float32 lon(lon)\n",
      "    units: degrees_east\n",
      "    long_name: Longitude\n",
      "    actual_range: [  0.  357.5]\n",
      "    standard_name: longitude\n",
      "    axis: X\n",
      "unlimited dimensions: \n",
      "current shape = (144,)\n",
      "filling on, default _FillValue of 9.969209968386869e+36 used\n",
      "<class 'netCDF4._netCDF4.Variable'>\n",
      "float64 time(time)\n",
      "    long_name: Time\n",
      "    delta_t: 0000-01-00 00:00:00\n",
      "    avg_period: 0000-01-00 00:00:00\n",
      "    prev_avg_period: 0000-00-01 00:00:00\n",
      "    standard_name: time\n",
      "    axis: T\n",
      "    units: hours since 1800-01-01 00:00:0.0\n",
      "    actual_range: [1297320. 1951848.]\n",
      "unlimited dimensions: time\n",
      "current shape = (897,)\n",
      "filling on, default _FillValue of 9.969209968386869e+36 used\n",
      "<class 'netCDF4._netCDF4.Variable'>\n",
      "float32 air(time, lat, lon)\n",
      "    long_name: Monthly Mean Air Temperature at sigma level 0.995\n",
      "    valid_range: [-2000.  2000.]\n",
      "    units: degC\n",
      "    add_offset: 0.0\n",
      "    scale_factor: 1.0\n",
      "    missing_value: -9.96921e+36\n",
      "    precision: 1\n",
      "    least_significant_digit: 0\n",
      "    var_desc: Air Temperature\n",
      "    level_desc: Surface\n",
      "    statistic: Mean\n",
      "    parent_stat: Individual Obs\n",
      "    dataset: NCEP Reanalysis Derived Products\n",
      "    actual_range: [-73.78001  42.14595]\n",
      "unlimited dimensions: time\n",
      "current shape = (897, 73, 144)\n",
      "filling on, default _FillValue of 9.969209968386869e+36 used\n"
     ]
    }
   ],
   "source": [
    "# acessando os metadados das variaveis\n",
    "for var in data.variables.values():\n",
    "    print(var)"
   ]
  },
  {
   "cell_type": "code",
   "execution_count": 364,
   "metadata": {},
   "outputs": [],
   "source": [
    "#np.array(data['air'])"
   ]
  },
  {
   "cell_type": "code",
   "execution_count": 365,
   "metadata": {},
   "outputs": [],
   "source": [
    "#data['air']"
   ]
  },
  {
   "cell_type": "code",
   "execution_count": 366,
   "metadata": {},
   "outputs": [],
   "source": [
    "air = data['air'][:]\n",
    "a = []\n",
    "lt = []\n",
    "lg = []\n",
    "\n",
    "for i in range(len(data['lat'])):\n",
    "    for j in range(len(data['lon'])):\n",
    "        x=air[0:898, i, j]\n",
    "        lt_aux = list(data['lat'][:])[i]\n",
    "        lg_aux = list(data['lon'][:])[j]\n",
    "        lt.append(lt_aux)\n",
    "        lg.append(lg_aux)\n",
    "        a.append(x)\n"
   ]
  },
  {
   "cell_type": "code",
   "execution_count": 349,
   "metadata": {},
   "outputs": [],
   "source": [
    "df = pd.DataFrame()\n",
    "for i,j,k in zip(a,lt,lg):\n",
    "    d=pd.DataFrame({\n",
    "        'air':i,\n",
    "        'lat':j,\n",
    "        \"long\":k\n",
    "    })\n",
    "    df=pd.concat([df, d])"
   ]
  },
  {
   "cell_type": "code",
   "execution_count": 350,
   "metadata": {},
   "outputs": [
    {
     "data": {
      "text/html": [
       "<div>\n",
       "<style scoped>\n",
       "    .dataframe tbody tr th:only-of-type {\n",
       "        vertical-align: middle;\n",
       "    }\n",
       "\n",
       "    .dataframe tbody tr th {\n",
       "        vertical-align: top;\n",
       "    }\n",
       "\n",
       "    .dataframe thead th {\n",
       "        text-align: right;\n",
       "    }\n",
       "</style>\n",
       "<table border=\"1\" class=\"dataframe\">\n",
       "  <thead>\n",
       "    <tr style=\"text-align: right;\">\n",
       "      <th></th>\n",
       "      <th>air</th>\n",
       "      <th>lat</th>\n",
       "      <th>long</th>\n",
       "    </tr>\n",
       "  </thead>\n",
       "  <tbody>\n",
       "    <tr>\n",
       "      <th>0</th>\n",
       "      <td>-34.926773</td>\n",
       "      <td>90.0</td>\n",
       "      <td>0.0</td>\n",
       "    </tr>\n",
       "    <tr>\n",
       "      <th>1</th>\n",
       "      <td>-33.311375</td>\n",
       "      <td>90.0</td>\n",
       "      <td>0.0</td>\n",
       "    </tr>\n",
       "    <tr>\n",
       "      <th>2</th>\n",
       "      <td>-29.716127</td>\n",
       "      <td>90.0</td>\n",
       "      <td>0.0</td>\n",
       "    </tr>\n",
       "    <tr>\n",
       "      <th>3</th>\n",
       "      <td>-23.678997</td>\n",
       "      <td>90.0</td>\n",
       "      <td>0.0</td>\n",
       "    </tr>\n",
       "    <tr>\n",
       "      <th>4</th>\n",
       "      <td>-5.309671</td>\n",
       "      <td>90.0</td>\n",
       "      <td>0.0</td>\n",
       "    </tr>\n",
       "    <tr>\n",
       "      <th>...</th>\n",
       "      <td>...</td>\n",
       "      <td>...</td>\n",
       "      <td>...</td>\n",
       "    </tr>\n",
       "    <tr>\n",
       "      <th>892</th>\n",
       "      <td>-53.745163</td>\n",
       "      <td>-90.0</td>\n",
       "      <td>357.5</td>\n",
       "    </tr>\n",
       "    <tr>\n",
       "      <th>893</th>\n",
       "      <td>-49.509178</td>\n",
       "      <td>-90.0</td>\n",
       "      <td>357.5</td>\n",
       "    </tr>\n",
       "    <tr>\n",
       "      <th>894</th>\n",
       "      <td>-56.505661</td>\n",
       "      <td>-90.0</td>\n",
       "      <td>357.5</td>\n",
       "    </tr>\n",
       "    <tr>\n",
       "      <th>895</th>\n",
       "      <td>-51.793552</td>\n",
       "      <td>-90.0</td>\n",
       "      <td>357.5</td>\n",
       "    </tr>\n",
       "    <tr>\n",
       "      <th>896</th>\n",
       "      <td>-54.761669</td>\n",
       "      <td>-90.0</td>\n",
       "      <td>357.5</td>\n",
       "    </tr>\n",
       "  </tbody>\n",
       "</table>\n",
       "<p>9429264 rows × 3 columns</p>\n",
       "</div>"
      ],
      "text/plain": [
       "           air   lat   long\n",
       "0   -34.926773  90.0    0.0\n",
       "1   -33.311375  90.0    0.0\n",
       "2   -29.716127  90.0    0.0\n",
       "3   -23.678997  90.0    0.0\n",
       "4    -5.309671  90.0    0.0\n",
       "..         ...   ...    ...\n",
       "892 -53.745163 -90.0  357.5\n",
       "893 -49.509178 -90.0  357.5\n",
       "894 -56.505661 -90.0  357.5\n",
       "895 -51.793552 -90.0  357.5\n",
       "896 -54.761669 -90.0  357.5\n",
       "\n",
       "[9429264 rows x 3 columns]"
      ]
     },
     "execution_count": 350,
     "metadata": {},
     "output_type": "execute_result"
    }
   ],
   "source": [
    "df"
   ]
  },
  {
   "cell_type": "code",
   "execution_count": 356,
   "metadata": {},
   "outputs": [
    {
     "data": {
      "text/plain": [
       "0     -18.477736\n",
       "1     -19.034824\n",
       "2     -15.400640\n",
       "3     -10.062331\n",
       "4      -6.734190\n",
       "         ...    \n",
       "892    -2.887913\n",
       "893     1.398325\n",
       "894     4.035474\n",
       "895     5.232250\n",
       "896     3.036657\n",
       "Name: air, Length: 897, dtype: float32"
      ]
     },
     "execution_count": 356,
     "metadata": {},
     "output_type": "execute_result"
    }
   ],
   "source": [
    "df[(df['lat']==30) & (df['long']==90)]['air']"
   ]
  },
  {
   "cell_type": "code",
   "execution_count": 371,
   "metadata": {},
   "outputs": [
    {
     "data": {
      "text/plain": [
       "<AxesSubplot:ylabel='air'>"
      ]
     },
     "execution_count": 371,
     "metadata": {},
     "output_type": "execute_result"
    },
    {
     "data": {
      "image/png": "[encoded data removed]",
      "text/plain": [
       "<Figure size 640x480 with 1 Axes>"
      ]
     },
     "metadata": {},
     "output_type": "display_data"
    }
   ],
   "source": [
    "sns.scatterplot(x=data['time'][:] ,y = df[(df['lat']==2.5) & (df['long']==55)]['air'])"
   ]
  },
  {
   "cell_type": "code",
   "execution_count": 122,
   "metadata": {},
   "outputs": [],
   "source": [
    "#import xarray as xr\n",
    "#data = nc.Dataset('air.mon.mean.nc')"
   ]
  }
 ],
 "metadata": {
  "kernelspec": {
   "display_name": "Python 3.7.13 ('env-dados-climaticos')",
   "language": "python",
   "name": "python3"
  },
  "language_info": {
   "codemirror_mode": {
    "name": "ipython",
    "version": 3
   },
   "file_extension": ".py",
   "mimetype": "text/x-python",
   "name": "python",
   "nbconvert_exporter": "python",
   "pygments_lexer": "ipython3",
   "version": "3.7.13"
  },
  "orig_nbformat": 4,
  "vscode": {
   "interpreter": {
    "hash": "cf1d7a47aad40b1d6052198e2d1ad341927e17e89e71bc7259f4052d543eb3e5"
   }
  }
 },
 "nbformat": 4,
 "nbformat_minor": 2
}
